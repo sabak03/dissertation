{
 "cells": [
  {
   "cell_type": "code",
   "execution_count": 1,
   "metadata": {},
   "outputs": [],
   "source": [
    "import librosa\n",
    "import numpy as np\n",
    "from pydub import AudioSegment\n",
    "from keras.models import Sequential\n",
    "from keras.layers import Dense\n",
    "from keras.optimizers import Adam\n",
    "import tensorflow as tf \n",
    "import tensorflow_io as tfio\n",
    "from sklearn.model_selection import train_test_split \n",
    "from keras.layers import Dense, Dropout, LSTM \n",
    "from keras.models import load_model"
   ]
  },
  {
   "cell_type": "markdown",
   "metadata": {},
   "source": [
    "Preparing the audio file and extracting its features"
   ]
  },
  {
   "cell_type": "code",
   "execution_count": 2,
   "metadata": {},
   "outputs": [],
   "source": [
    "def extractFeatures(filePath): \n",
    "    audio, sampleRate = librosa.load(filePath, res_type='kaiser_fast')  \n",
    "    mfccs = librosa.feature.mfcc(y=audio, sr=sampleRate, n_mfcc=40) \n",
    "    mfccsProcessed = np.mean(mfccs.T, axis=0) \n",
    "    return mfccsProcessed.reshape(1, -1)"
   ]
  },
  {
   "cell_type": "code",
   "execution_count": 11,
   "metadata": {},
   "outputs": [],
   "source": [
    "testAudioPath = 'audioFiles/testKhaa.wav'\n",
    "features = extractFeatures(testAudioPath)"
   ]
  },
  {
   "cell_type": "markdown",
   "metadata": {},
   "source": [
    "Loading the trained model from dissoModel.ipynb"
   ]
  },
  {
   "cell_type": "code",
   "execution_count": 12,
   "metadata": {},
   "outputs": [],
   "source": [
    "model = load_model('khaaModel.h5')"
   ]
  },
  {
   "cell_type": "markdown",
   "metadata": {},
   "source": [
    "Predicting outcome using the model"
   ]
  },
  {
   "cell_type": "code",
   "execution_count": 13,
   "metadata": {},
   "outputs": [
    {
     "name": "stdout",
     "output_type": "stream",
     "text": [
      "1/1 [==============================] - 0s 43ms/step\n"
     ]
    }
   ],
   "source": [
    "prediction = model.predict(features)\n",
    "is_correct = prediction >= 0.5"
   ]
  },
  {
   "cell_type": "code",
   "execution_count": 14,
   "metadata": {},
   "outputs": [
    {
     "name": "stdout",
     "output_type": "stream",
     "text": [
      "Prediction: Incorrect pronunciation\n"
     ]
    }
   ],
   "source": [
    "print(f\"Prediction: {'Correct' if is_correct else 'Incorrect'} pronunciation\")"
   ]
  }
 ],
 "metadata": {
  "kernelspec": {
   "display_name": "dissovenv",
   "language": "python",
   "name": "python3"
  },
  "language_info": {
   "codemirror_mode": {
    "name": "ipython",
    "version": 3
   },
   "file_extension": ".py",
   "mimetype": "text/x-python",
   "name": "python",
   "nbconvert_exporter": "python",
   "pygments_lexer": "ipython3",
   "version": "3.8.0"
  }
 },
 "nbformat": 4,
 "nbformat_minor": 2
}
