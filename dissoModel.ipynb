{
 "cells": [
  {
   "cell_type": "code",
   "execution_count": 6,
   "metadata": {},
   "outputs": [],
   "source": [
    "import librosa\n",
    "import numpy as np\n",
    "from pydub import AudioSegment\n",
    "from keras.models import Sequential\n",
    "from keras.layers import Dense\n",
    "from keras.optimizers import Adam\n",
    "import tensorflow as tf \n",
    "import tensorflow_io as tfio\n",
    "from sklearn.model_selection import train_test_split \n",
    "from keras.layers import Dense, Dropout, LSTM "
   ]
  },
  {
   "cell_type": "markdown",
   "metadata": {},
   "source": [
    "Extract MFCCs"
   ]
  },
  {
   "cell_type": "code",
   "execution_count": 7,
   "metadata": {},
   "outputs": [],
   "source": [
    "def extractFeatures(filePath): \n",
    "    audio, sampleRate = librosa.load(filePath, res_type='kaiser_fast')  \n",
    "    mfccs = librosa.feature.mfcc(y=audio, sr=sampleRate, n_mfcc=40) \n",
    "    mfccsProcessed = np.mean(mfccs.T,axis=0) \n",
    "    return mfccsProcessed \n"
   ]
  },
  {
   "cell_type": "markdown",
   "metadata": {},
   "source": [
    "Loading and labelling data"
   ]
  },
  {
   "cell_type": "code",
   "execution_count": 8,
   "metadata": {},
   "outputs": [],
   "source": [
    "\n",
    "def loadAudioFiles(filePaths, label):\n",
    "    features = []\n",
    "    for file in filePaths:\n",
    "        mfccsProcessed = extractFeatures(file)\n",
    "        features.append(mfccsProcessed)\n",
    "    return np.array(features), np.array([label] * len(features))"
   ]
  },
  {
   "cell_type": "markdown",
   "metadata": {},
   "source": [
    "Importing files"
   ]
  },
  {
   "cell_type": "code",
   "execution_count": 9,
   "metadata": {},
   "outputs": [],
   "source": [
    "correctFiles = ['audioFiles/adamKhaa .wav','audioFiles/dadKhaa.wav','audioFiles/hennaKhaa.wav','audioFiles/meKhaa.wav']\n",
    "incorrectFiles = ['audioFiles/wrongKhaa1.wav','audioFiles/wrongKhaa2.wav','audioFiles/wrongKhaa3.wav']"
   ]
  },
  {
   "cell_type": "code",
   "execution_count": 12,
   "metadata": {},
   "outputs": [],
   "source": [
    "correctFeatures, correctLabels = loadAudioFiles(correctFiles, 1)\n",
    "incorrectFeatures, incorrectLabels = loadAudioFiles(incorrectFiles, 0)"
   ]
  },
  {
   "cell_type": "markdown",
   "metadata": {},
   "source": [
    "Testing and Training"
   ]
  },
  {
   "cell_type": "code",
   "execution_count": 14,
   "metadata": {},
   "outputs": [],
   "source": [
    "x = np.concatenate((correctFeatures, incorrectFeatures), axis=0)\n",
    "y = np.concatenate((correctLabels, incorrectLabels), axis=0)"
   ]
  },
  {
   "cell_type": "code",
   "execution_count": 15,
   "metadata": {},
   "outputs": [],
   "source": [
    "x_train, x_test, y_train, y_test = train_test_split(x, y, test_size=0.2, random_state=42)"
   ]
  },
  {
   "cell_type": "code",
   "execution_count": 16,
   "metadata": {},
   "outputs": [],
   "source": [
    "x_train = np.expand_dims(x_train, axis=2)\n",
    "x_test = np.expand_dims(x_test, axis=2)"
   ]
  },
  {
   "cell_type": "markdown",
   "metadata": {},
   "source": [
    "CNN Model"
   ]
  },
  {
   "cell_type": "code",
   "execution_count": 17,
   "metadata": {},
   "outputs": [],
   "source": [
    "model = Sequential()\n",
    "model.add(Dense(256, activation='relu', input_shape=(40,)))\n",
    "model.add(Dropout(0.5))\n",
    "model.add(Dense(128, activation='relu'))\n",
    "model.add(Dropout(0.5))\n",
    "model.add(Dense(1, activation='sigmoid'))"
   ]
  },
  {
   "cell_type": "code",
   "execution_count": 18,
   "metadata": {},
   "outputs": [],
   "source": [
    "model.compile(optimizer=Adam(learning_rate=0.001), loss='binary_crossentropy', metrics=['accuracy'])"
   ]
  },
  {
   "cell_type": "code",
   "execution_count": 19,
   "metadata": {},
   "outputs": [
    {
     "name": "stdout",
     "output_type": "stream",
     "text": [
      "Epoch 1/50\n",
      "5/5 [==============================] - 1s 35ms/step - loss: 1.0370 - accuracy: 0.8000 - val_loss: 0.0041 - val_accuracy: 1.0000\n",
      "Epoch 2/50\n",
      "5/5 [==============================] - 0s 5ms/step - loss: 40.7809 - accuracy: 0.4000 - val_loss: 5.3708e-06 - val_accuracy: 1.0000\n",
      "Epoch 3/50\n",
      "5/5 [==============================] - 0s 7ms/step - loss: 44.2264 - accuracy: 0.4000 - val_loss: 5.2715e-08 - val_accuracy: 1.0000\n",
      "Epoch 4/50\n",
      "5/5 [==============================] - 0s 6ms/step - loss: 29.5640 - accuracy: 0.2000 - val_loss: 8.1298e-10 - val_accuracy: 1.0000\n",
      "Epoch 5/50\n",
      "5/5 [==============================] - 0s 6ms/step - loss: 25.5432 - accuracy: 0.6000 - val_loss: 6.5188e-09 - val_accuracy: 1.0000\n",
      "Epoch 6/50\n",
      "5/5 [==============================] - 0s 6ms/step - loss: 27.4175 - accuracy: 0.6000 - val_loss: 6.9106e-07 - val_accuracy: 1.0000\n",
      "Epoch 7/50\n",
      "5/5 [==============================] - 0s 7ms/step - loss: 22.5511 - accuracy: 0.6000 - val_loss: 3.8391e-05 - val_accuracy: 1.0000\n",
      "Epoch 8/50\n",
      "5/5 [==============================] - 0s 6ms/step - loss: 16.4452 - accuracy: 0.4000 - val_loss: 0.0459 - val_accuracy: 1.0000\n",
      "Epoch 9/50\n",
      "5/5 [==============================] - 0s 6ms/step - loss: 0.0016 - accuracy: 1.0000 - val_loss: 0.4690 - val_accuracy: 1.0000\n",
      "Epoch 10/50\n",
      "5/5 [==============================] - 0s 7ms/step - loss: 42.3458 - accuracy: 0.2000 - val_loss: 1.2030 - val_accuracy: 0.0000e+00\n",
      "Epoch 11/50\n",
      "5/5 [==============================] - 0s 6ms/step - loss: 21.4262 - accuracy: 0.2000 - val_loss: 0.5314 - val_accuracy: 1.0000\n",
      "Epoch 12/50\n",
      "5/5 [==============================] - 0s 6ms/step - loss: 1.9701 - accuracy: 0.8000 - val_loss: 0.5219 - val_accuracy: 1.0000\n",
      "Epoch 13/50\n",
      "5/5 [==============================] - 0s 6ms/step - loss: 6.3003 - accuracy: 0.6000 - val_loss: 1.4710e-05 - val_accuracy: 1.0000\n",
      "Epoch 14/50\n",
      "5/5 [==============================] - 0s 6ms/step - loss: 14.4790 - accuracy: 0.8000 - val_loss: 2.7041e-11 - val_accuracy: 1.0000\n",
      "Epoch 15/50\n",
      "5/5 [==============================] - 0s 7ms/step - loss: 16.5490 - accuracy: 0.6000 - val_loss: 7.7458e-12 - val_accuracy: 1.0000\n",
      "Epoch 16/50\n",
      "5/5 [==============================] - 0s 7ms/step - loss: 5.7436 - accuracy: 0.6000 - val_loss: 4.5229e-13 - val_accuracy: 1.0000\n",
      "Epoch 17/50\n",
      "5/5 [==============================] - 0s 7ms/step - loss: 11.5221 - accuracy: 0.8000 - val_loss: 2.0277e-11 - val_accuracy: 1.0000\n",
      "Epoch 18/50\n",
      "5/5 [==============================] - 0s 6ms/step - loss: 14.6184 - accuracy: 0.6000 - val_loss: 1.3223e-12 - val_accuracy: 1.0000\n",
      "Epoch 19/50\n",
      "5/5 [==============================] - 0s 6ms/step - loss: 43.9138 - accuracy: 0.4000 - val_loss: 1.3374e-09 - val_accuracy: 1.0000\n",
      "Epoch 20/50\n",
      "5/5 [==============================] - 0s 6ms/step - loss: 7.2337 - accuracy: 0.4000 - val_loss: 1.8577e-08 - val_accuracy: 1.0000\n",
      "Epoch 21/50\n",
      "5/5 [==============================] - 0s 6ms/step - loss: 6.3391 - accuracy: 0.6000 - val_loss: 0.0110 - val_accuracy: 1.0000\n",
      "Epoch 22/50\n",
      "5/5 [==============================] - 0s 6ms/step - loss: 15.7365 - accuracy: 0.4000 - val_loss: 14.2972 - val_accuracy: 0.0000e+00\n",
      "Epoch 23/50\n",
      "5/5 [==============================] - 0s 6ms/step - loss: 26.0949 - accuracy: 0.6000 - val_loss: 24.7381 - val_accuracy: 0.0000e+00\n",
      "Epoch 24/50\n",
      "5/5 [==============================] - 0s 5ms/step - loss: 29.5561 - accuracy: 0.6000 - val_loss: 11.3844 - val_accuracy: 0.0000e+00\n",
      "Epoch 25/50\n",
      "5/5 [==============================] - 0s 6ms/step - loss: 25.6956 - accuracy: 0.6000 - val_loss: 3.7030e-04 - val_accuracy: 1.0000\n",
      "Epoch 26/50\n",
      "5/5 [==============================] - 0s 6ms/step - loss: 8.1065 - accuracy: 0.8000 - val_loss: 9.0761e-12 - val_accuracy: 1.0000\n",
      "Epoch 27/50\n",
      "5/5 [==============================] - 0s 6ms/step - loss: 0.0024 - accuracy: 1.0000 - val_loss: 3.2348e-16 - val_accuracy: 1.0000\n",
      "Epoch 28/50\n",
      "5/5 [==============================] - 0s 6ms/step - loss: 2.6628 - accuracy: 0.8000 - val_loss: 5.8281e-18 - val_accuracy: 1.0000\n",
      "Epoch 29/50\n",
      "5/5 [==============================] - 0s 6ms/step - loss: 2.5923 - accuracy: 0.8000 - val_loss: 7.4759e-16 - val_accuracy: 1.0000\n",
      "Epoch 30/50\n",
      "5/5 [==============================] - 0s 6ms/step - loss: 8.7247 - accuracy: 0.8000 - val_loss: 8.8678e-13 - val_accuracy: 1.0000\n",
      "Epoch 31/50\n",
      "5/5 [==============================] - 0s 8ms/step - loss: 5.9687 - accuracy: 0.6000 - val_loss: 5.7153e-10 - val_accuracy: 1.0000\n",
      "Epoch 32/50\n",
      "5/5 [==============================] - 0s 7ms/step - loss: 18.9292 - accuracy: 0.0000e+00 - val_loss: 2.4228e-07 - val_accuracy: 1.0000\n",
      "Epoch 33/50\n",
      "5/5 [==============================] - 0s 7ms/step - loss: 21.5727 - accuracy: 0.4000 - val_loss: 2.2498e-04 - val_accuracy: 1.0000\n",
      "Epoch 34/50\n",
      "5/5 [==============================] - 0s 6ms/step - loss: 16.6975 - accuracy: 0.2000 - val_loss: 6.9867 - val_accuracy: 0.0000e+00\n",
      "Epoch 35/50\n",
      "5/5 [==============================] - 0s 6ms/step - loss: 2.3591 - accuracy: 0.8000 - val_loss: 5.9118 - val_accuracy: 0.0000e+00\n",
      "Epoch 36/50\n",
      "5/5 [==============================] - 0s 6ms/step - loss: 2.7468 - accuracy: 0.8000 - val_loss: 3.8773 - val_accuracy: 0.0000e+00\n",
      "Epoch 37/50\n",
      "5/5 [==============================] - 0s 7ms/step - loss: 2.2677 - accuracy: 0.8000 - val_loss: 8.7601e-05 - val_accuracy: 1.0000\n",
      "Epoch 38/50\n",
      "5/5 [==============================] - 0s 7ms/step - loss: 1.6091 - accuracy: 0.6000 - val_loss: 5.5590e-09 - val_accuracy: 1.0000\n",
      "Epoch 39/50\n",
      "5/5 [==============================] - 0s 7ms/step - loss: 10.8698 - accuracy: 0.6000 - val_loss: 3.6943e-10 - val_accuracy: 1.0000\n",
      "Epoch 40/50\n",
      "5/5 [==============================] - 0s 7ms/step - loss: 2.0590 - accuracy: 0.8000 - val_loss: 2.1061e-10 - val_accuracy: 1.0000\n",
      "Epoch 41/50\n",
      "5/5 [==============================] - 0s 6ms/step - loss: 1.7080 - accuracy: 0.8000 - val_loss: 4.7063e-07 - val_accuracy: 1.0000\n",
      "Epoch 42/50\n",
      "5/5 [==============================] - 0s 7ms/step - loss: 14.6832 - accuracy: 0.6000 - val_loss: 0.0044 - val_accuracy: 1.0000\n",
      "Epoch 43/50\n",
      "5/5 [==============================] - 0s 7ms/step - loss: 13.9008 - accuracy: 0.6000 - val_loss: 0.0016 - val_accuracy: 1.0000\n",
      "Epoch 44/50\n",
      "5/5 [==============================] - 0s 7ms/step - loss: 4.8291 - accuracy: 0.6000 - val_loss: 4.4434e-04 - val_accuracy: 1.0000\n",
      "Epoch 45/50\n",
      "5/5 [==============================] - 0s 7ms/step - loss: 10.1763 - accuracy: 0.8000 - val_loss: 1.6136e-04 - val_accuracy: 1.0000\n",
      "Epoch 46/50\n",
      "5/5 [==============================] - 0s 6ms/step - loss: 10.9933 - accuracy: 0.6000 - val_loss: 9.2237e-08 - val_accuracy: 1.0000\n",
      "Epoch 47/50\n",
      "5/5 [==============================] - 0s 6ms/step - loss: 8.6259 - accuracy: 0.6000 - val_loss: 3.2663e-09 - val_accuracy: 1.0000\n",
      "Epoch 48/50\n",
      "5/5 [==============================] - 0s 7ms/step - loss: 8.6018 - accuracy: 0.6000 - val_loss: 2.2458e-08 - val_accuracy: 1.0000\n",
      "Epoch 49/50\n",
      "5/5 [==============================] - 0s 8ms/step - loss: 1.3099 - accuracy: 0.8000 - val_loss: 2.5769e-07 - val_accuracy: 1.0000\n",
      "Epoch 50/50\n",
      "5/5 [==============================] - 0s 7ms/step - loss: 24.9397 - accuracy: 0.6000 - val_loss: 3.2108e-08 - val_accuracy: 1.0000\n"
     ]
    },
    {
     "data": {
      "text/plain": [
       "<keras.src.callbacks.History at 0x15bb6782fd0>"
      ]
     },
     "execution_count": 19,
     "metadata": {},
     "output_type": "execute_result"
    }
   ],
   "source": [
    "model.fit(x_train, y_train, epochs=50, batch_size=1, verbose=1, validation_data=(x_test, y_test))"
   ]
  },
  {
   "cell_type": "markdown",
   "metadata": {},
   "source": [
    "Evaluate model"
   ]
  },
  {
   "cell_type": "code",
   "execution_count": 20,
   "metadata": {},
   "outputs": [
    {
     "name": "stdout",
     "output_type": "stream",
     "text": [
      "1/1 [==============================] - 0s 132ms/step - loss: 3.2108e-08 - accuracy: 1.0000\n",
      "Test accuracy: 1.0\n"
     ]
    }
   ],
   "source": [
    "test_loss, test_accuracy = model.evaluate(x_test, y_test, verbose=1)\n",
    "print(f\"Test accuracy: {test_accuracy}\")"
   ]
  }
 ],
 "metadata": {
  "kernelspec": {
   "display_name": "dissovenv",
   "language": "python",
   "name": "python3"
  },
  "language_info": {
   "codemirror_mode": {
    "name": "ipython",
    "version": 3
   },
   "file_extension": ".py",
   "mimetype": "text/x-python",
   "name": "python",
   "nbconvert_exporter": "python",
   "pygments_lexer": "ipython3",
   "version": "3.8.0"
  }
 },
 "nbformat": 4,
 "nbformat_minor": 2
}
