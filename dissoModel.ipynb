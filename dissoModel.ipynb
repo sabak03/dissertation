{
 "cells": [
  {
   "cell_type": "code",
   "execution_count": 6,
   "metadata": {},
   "outputs": [],
   "source": [
    "import librosa\n",
    "import numpy as np\n",
    "from pydub import AudioSegment\n",
    "from keras.models import Sequential\n",
    "from keras.layers import Dense\n",
    "from keras.optimizers import Adam\n",
    "import tensorflow as tf \n",
    "import tensorflow_io as tfio\n",
    "from sklearn.model_selection import train_test_split \n",
    "from keras.layers import Dense, Dropout, LSTM "
   ]
  },
  {
   "cell_type": "markdown",
   "metadata": {},
   "source": [
    "Extract MFCCs"
   ]
  },
  {
   "cell_type": "code",
   "execution_count": 7,
   "metadata": {},
   "outputs": [],
   "source": [
    "def extractFeatures(filePath): \n",
    "    audio, sampleRate = librosa.load(filePath, res_type='kaiser_fast')  \n",
    "    mfccs = librosa.feature.mfcc(y=audio, sr=sampleRate, n_mfcc=40) \n",
    "    mfccsProcessed = np.mean(mfccs.T,axis=0) \n",
    "    return mfccsProcessed \n"
   ]
  },
  {
   "cell_type": "markdown",
   "metadata": {},
   "source": [
    "Loading and labelling data"
   ]
  },
  {
   "cell_type": "code",
   "execution_count": 8,
   "metadata": {},
   "outputs": [],
   "source": [
    "\n",
    "def loadAudioFiles(filePaths, label):\n",
    "    features = []\n",
    "    for file in filePaths:\n",
    "        mfccsProcessed = extractFeatures(file)\n",
    "        features.append(mfccsProcessed)\n",
    "    return np.array(features), np.array([label] * len(features))"
   ]
  },
  {
   "cell_type": "markdown",
   "metadata": {},
   "source": [
    "Importing files"
   ]
  },
  {
   "cell_type": "code",
   "execution_count": 9,
   "metadata": {},
   "outputs": [],
   "source": [
    "correctFiles = ['audioFiles/adamKhaa .wav','audioFiles/dadKhaa.wav','audioFiles/hennaKhaa.wav','audioFiles/meKhaa.wav']\n",
    "incorrectFiles = ['audioFiles/wrongKhaa1.wav','audioFiles/wrongKhaa2.wav','audioFiles/wrongKhaa3.wav']"
   ]
  },
  {
   "cell_type": "code",
   "execution_count": 10,
   "metadata": {},
   "outputs": [],
   "source": [
    "correctFeatures, correctLabels = loadAudioFiles(correctFiles, 1)\n",
    "incorrectFeatures, incorrectlabels = loadAudioFiles(incorrectFiles, 0)"
   ]
  }
 ],
 "metadata": {
  "kernelspec": {
   "display_name": "dissovenv",
   "language": "python",
   "name": "python3"
  },
  "language_info": {
   "codemirror_mode": {
    "name": "ipython",
    "version": 3
   },
   "file_extension": ".py",
   "mimetype": "text/x-python",
   "name": "python",
   "nbconvert_exporter": "python",
   "pygments_lexer": "ipython3",
   "version": "3.8.0"
  }
 },
 "nbformat": 4,
 "nbformat_minor": 2
}
